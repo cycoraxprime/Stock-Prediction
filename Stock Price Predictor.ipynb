{
 "cells": [
  {
   "cell_type": "markdown",
   "id": "e121e94b-4f35-48e3-ba3a-ee402b58b64a",
   "metadata": {},
   "source": [
    "# Lets Predict the stock Prices for NVIDIA !"
   ]
  },
  {
   "cell_type": "code",
   "execution_count": 1,
   "id": "bcfe6aea-bbeb-47a5-9546-fb8ce813217f",
   "metadata": {},
   "outputs": [
    {
     "name": "stdout",
     "output_type": "stream",
     "text": [
      "Requirement already satisfied: yfinance in c:\\users\\aditya\\anaconda3\\lib\\site-packages (0.2.41)\n",
      "Requirement already satisfied: pandas>=1.3.0 in c:\\users\\aditya\\anaconda3\\lib\\site-packages (from yfinance) (2.1.4)\n",
      "Requirement already satisfied: numpy>=1.16.5 in c:\\users\\aditya\\anaconda3\\lib\\site-packages (from yfinance) (1.26.4)\n",
      "Requirement already satisfied: requests>=2.31 in c:\\users\\aditya\\anaconda3\\lib\\site-packages (from yfinance) (2.31.0)\n",
      "Requirement already satisfied: multitasking>=0.0.7 in c:\\users\\aditya\\anaconda3\\lib\\site-packages (from yfinance) (0.0.11)\n",
      "Requirement already satisfied: lxml>=4.9.1 in c:\\users\\aditya\\anaconda3\\lib\\site-packages (from yfinance) (4.9.3)\n",
      "Requirement already satisfied: platformdirs>=2.0.0 in c:\\users\\aditya\\anaconda3\\lib\\site-packages (from yfinance) (3.10.0)\n",
      "Requirement already satisfied: pytz>=2022.5 in c:\\users\\aditya\\anaconda3\\lib\\site-packages (from yfinance) (2023.3.post1)\n",
      "Requirement already satisfied: frozendict>=2.3.4 in c:\\users\\aditya\\anaconda3\\lib\\site-packages (from yfinance) (2.4.4)\n",
      "Requirement already satisfied: peewee>=3.16.2 in c:\\users\\aditya\\anaconda3\\lib\\site-packages (from yfinance) (3.17.6)\n",
      "Requirement already satisfied: beautifulsoup4>=4.11.1 in c:\\users\\aditya\\anaconda3\\lib\\site-packages (from yfinance) (4.12.2)\n",
      "Requirement already satisfied: html5lib>=1.1 in c:\\users\\aditya\\anaconda3\\lib\\site-packages (from yfinance) (1.1)\n",
      "Requirement already satisfied: soupsieve>1.2 in c:\\users\\aditya\\anaconda3\\lib\\site-packages (from beautifulsoup4>=4.11.1->yfinance) (2.5)\n",
      "Requirement already satisfied: six>=1.9 in c:\\users\\aditya\\anaconda3\\lib\\site-packages (from html5lib>=1.1->yfinance) (1.16.0)\n",
      "Requirement already satisfied: webencodings in c:\\users\\aditya\\anaconda3\\lib\\site-packages (from html5lib>=1.1->yfinance) (0.5.1)\n",
      "Requirement already satisfied: python-dateutil>=2.8.2 in c:\\users\\aditya\\anaconda3\\lib\\site-packages (from pandas>=1.3.0->yfinance) (2.8.2)\n",
      "Requirement already satisfied: tzdata>=2022.1 in c:\\users\\aditya\\anaconda3\\lib\\site-packages (from pandas>=1.3.0->yfinance) (2023.3)\n",
      "Requirement already satisfied: charset-normalizer<4,>=2 in c:\\users\\aditya\\anaconda3\\lib\\site-packages (from requests>=2.31->yfinance) (2.0.4)\n",
      "Requirement already satisfied: idna<4,>=2.5 in c:\\users\\aditya\\anaconda3\\lib\\site-packages (from requests>=2.31->yfinance) (3.4)\n",
      "Requirement already satisfied: urllib3<3,>=1.21.1 in c:\\users\\aditya\\anaconda3\\lib\\site-packages (from requests>=2.31->yfinance) (2.0.7)\n",
      "Requirement already satisfied: certifi>=2017.4.17 in c:\\users\\aditya\\anaconda3\\lib\\site-packages (from requests>=2.31->yfinance) (2024.2.2)\n",
      "Note: you may need to restart the kernel to use updated packages.\n"
     ]
    },
    {
     "name": "stderr",
     "output_type": "stream",
     "text": [
      "\n",
      "[notice] A new release of pip is available: 24.1.2 -> 24.2\n",
      "[notice] To update, run: python.exe -m pip install --upgrade pip\n"
     ]
    }
   ],
   "source": []
  },
  {
   "cell_type": "code",
   "execution_count": 2,
   "id": "cec82d35-90bc-4cc8-bfbd-88611ba28f97",
   "metadata": {},
   "outputs": [],
   "source": [
    "import numpy as np\n",
    "import pandas as pd \n",
    "import seaborn as sns\n",
    "import matplotlib.pyplot as plt\n",
    "import yfinance as yf"
   ]
  },
  {
   "cell_type": "code",
   "execution_count": 3,
   "id": "b19377d5-b9e4-4015-aa08-49786498d717",
   "metadata": {},
   "outputs": [
    {
     "name": "stderr",
     "output_type": "stream",
     "text": [
      "[*********************100%%**********************]  1 of 1 completed\n"
     ]
    }
   ],
   "source": [
    "start = '2012-01-01'\n",
    "end='2022-12-21'\n",
    "stock='NVDA'\n",
    "\n",
    "data=yf.download(stock , start , end)"
   ]
  },
  {
   "cell_type": "markdown",
   "id": "37fee06f-9a9b-4fad-b5c3-fd64b6cc6532",
   "metadata": {},
   "source": [
    "Extracting the data & downloading the data"
   ]
  },
  {
   "cell_type": "code",
   "execution_count": 4,
   "id": "3bece4b4-b5bd-4c51-af2e-6ad0e3f9edc8",
   "metadata": {},
   "outputs": [
    {
     "data": {
      "text/html": [
       "<div>\n",
       "<style scoped>\n",
       "    .dataframe tbody tr th:only-of-type {\n",
       "        vertical-align: middle;\n",
       "    }\n",
       "\n",
       "    .dataframe tbody tr th {\n",
       "        vertical-align: top;\n",
       "    }\n",
       "\n",
       "    .dataframe thead th {\n",
       "        text-align: right;\n",
       "    }\n",
       "</style>\n",
       "<table border=\"1\" class=\"dataframe\">\n",
       "  <thead>\n",
       "    <tr style=\"text-align: right;\">\n",
       "      <th></th>\n",
       "      <th>Open</th>\n",
       "      <th>High</th>\n",
       "      <th>Low</th>\n",
       "      <th>Close</th>\n",
       "      <th>Adj Close</th>\n",
       "      <th>Volume</th>\n",
       "    </tr>\n",
       "    <tr>\n",
       "      <th>Date</th>\n",
       "      <th></th>\n",
       "      <th></th>\n",
       "      <th></th>\n",
       "      <th></th>\n",
       "      <th></th>\n",
       "      <th></th>\n",
       "    </tr>\n",
       "  </thead>\n",
       "  <tbody>\n",
       "    <tr>\n",
       "      <th>2012-01-03</th>\n",
       "      <td>0.357500</td>\n",
       "      <td>0.360000</td>\n",
       "      <td>0.350250</td>\n",
       "      <td>0.351000</td>\n",
       "      <td>0.321947</td>\n",
       "      <td>468044000</td>\n",
       "    </tr>\n",
       "    <tr>\n",
       "      <th>2012-01-04</th>\n",
       "      <td>0.351250</td>\n",
       "      <td>0.356500</td>\n",
       "      <td>0.348000</td>\n",
       "      <td>0.355000</td>\n",
       "      <td>0.325616</td>\n",
       "      <td>347372000</td>\n",
       "    </tr>\n",
       "    <tr>\n",
       "      <th>2012-01-05</th>\n",
       "      <td>0.353250</td>\n",
       "      <td>0.369500</td>\n",
       "      <td>0.351750</td>\n",
       "      <td>0.367750</td>\n",
       "      <td>0.337310</td>\n",
       "      <td>563548000</td>\n",
       "    </tr>\n",
       "    <tr>\n",
       "      <th>2012-01-06</th>\n",
       "      <td>0.367500</td>\n",
       "      <td>0.367750</td>\n",
       "      <td>0.359250</td>\n",
       "      <td>0.363500</td>\n",
       "      <td>0.333412</td>\n",
       "      <td>533252000</td>\n",
       "    </tr>\n",
       "    <tr>\n",
       "      <th>2012-01-09</th>\n",
       "      <td>0.363750</td>\n",
       "      <td>0.370500</td>\n",
       "      <td>0.361000</td>\n",
       "      <td>0.363500</td>\n",
       "      <td>0.333412</td>\n",
       "      <td>508244000</td>\n",
       "    </tr>\n",
       "    <tr>\n",
       "      <th>...</th>\n",
       "      <td>...</td>\n",
       "      <td>...</td>\n",
       "      <td>...</td>\n",
       "      <td>...</td>\n",
       "      <td>...</td>\n",
       "      <td>...</td>\n",
       "    </tr>\n",
       "    <tr>\n",
       "      <th>2022-12-14</th>\n",
       "      <td>17.987000</td>\n",
       "      <td>18.252001</td>\n",
       "      <td>17.420000</td>\n",
       "      <td>17.674000</td>\n",
       "      <td>17.663881</td>\n",
       "      <td>496888000</td>\n",
       "    </tr>\n",
       "    <tr>\n",
       "      <th>2022-12-15</th>\n",
       "      <td>17.146000</td>\n",
       "      <td>17.320000</td>\n",
       "      <td>16.700001</td>\n",
       "      <td>16.952000</td>\n",
       "      <td>16.942295</td>\n",
       "      <td>478542000</td>\n",
       "    </tr>\n",
       "    <tr>\n",
       "      <th>2022-12-16</th>\n",
       "      <td>16.864000</td>\n",
       "      <td>17.041000</td>\n",
       "      <td>16.410000</td>\n",
       "      <td>16.570999</td>\n",
       "      <td>16.561514</td>\n",
       "      <td>478232000</td>\n",
       "    </tr>\n",
       "    <tr>\n",
       "      <th>2022-12-19</th>\n",
       "      <td>16.572001</td>\n",
       "      <td>16.608999</td>\n",
       "      <td>16.145000</td>\n",
       "      <td>16.254000</td>\n",
       "      <td>16.244692</td>\n",
       "      <td>354039000</td>\n",
       "    </tr>\n",
       "    <tr>\n",
       "      <th>2022-12-20</th>\n",
       "      <td>16.063999</td>\n",
       "      <td>16.309999</td>\n",
       "      <td>15.852000</td>\n",
       "      <td>16.084999</td>\n",
       "      <td>16.075794</td>\n",
       "      <td>403260000</td>\n",
       "    </tr>\n",
       "  </tbody>\n",
       "</table>\n",
       "<p>2761 rows × 6 columns</p>\n",
       "</div>"
      ],
      "text/plain": [
       "                 Open       High        Low      Close  Adj Close     Volume\n",
       "Date                                                                        \n",
       "2012-01-03   0.357500   0.360000   0.350250   0.351000   0.321947  468044000\n",
       "2012-01-04   0.351250   0.356500   0.348000   0.355000   0.325616  347372000\n",
       "2012-01-05   0.353250   0.369500   0.351750   0.367750   0.337310  563548000\n",
       "2012-01-06   0.367500   0.367750   0.359250   0.363500   0.333412  533252000\n",
       "2012-01-09   0.363750   0.370500   0.361000   0.363500   0.333412  508244000\n",
       "...               ...        ...        ...        ...        ...        ...\n",
       "2022-12-14  17.987000  18.252001  17.420000  17.674000  17.663881  496888000\n",
       "2022-12-15  17.146000  17.320000  16.700001  16.952000  16.942295  478542000\n",
       "2022-12-16  16.864000  17.041000  16.410000  16.570999  16.561514  478232000\n",
       "2022-12-19  16.572001  16.608999  16.145000  16.254000  16.244692  354039000\n",
       "2022-12-20  16.063999  16.309999  15.852000  16.084999  16.075794  403260000\n",
       "\n",
       "[2761 rows x 6 columns]"
      ]
     },
     "execution_count": 4,
     "metadata": {},
     "output_type": "execute_result"
    }
   ],
   "source": [
    "data"
   ]
  },
  {
   "cell_type": "code",
   "execution_count": 5,
   "id": "c4edaa69-3a97-42da-816b-8ec60f96ca4f",
   "metadata": {},
   "outputs": [
    {
     "data": {
      "text/plain": [
       "Open         0\n",
       "High         0\n",
       "Low          0\n",
       "Close        0\n",
       "Adj Close    0\n",
       "Volume       0\n",
       "dtype: int64"
      ]
     },
     "execution_count": 5,
     "metadata": {},
     "output_type": "execute_result"
    }
   ],
   "source": [
    "data.isnull().sum()"
   ]
  },
  {
   "cell_type": "code",
   "execution_count": 6,
   "id": "7f6d82e0-defc-4303-97ac-2e998943216f",
   "metadata": {},
   "outputs": [],
   "source": [
    "ma_100_days=data.Close.rolling(100).mean()"
   ]
  },
  {
   "cell_type": "code",
   "execution_count": 7,
   "id": "bb2b39fb-abb8-4a85-93a4-90df0cfcc844",
   "metadata": {},
   "outputs": [
    {
     "data": {
      "image/png": "[encoded data removed]",
      "text/plain": [
       "<Figure size 800x600 with 1 Axes>"
      ]
     },
     "metadata": {},
     "output_type": "display_data"
    }
   ],
   "source": [
    "plt.figure(figsize=(8,6))\n",
    "plt.plot(ma_100_days , 'r')\n",
    "plt.plot(data.Close, 'g')\n",
    "plt.show()"
   ]
  },
  {
   "cell_type": "code",
   "execution_count": 8,
   "id": "db85c120-7204-4372-8730-51774346017b",
   "metadata": {},
   "outputs": [],
   "source": [
    "ma_200_days=data.Close.rolling(200).mean()"
   ]
  },
  {
   "cell_type": "code",
   "execution_count": 9,
   "id": "eb49f5c2-ca7e-43c6-a53d-34be03cb9b29",
   "metadata": {},
   "outputs": [
    {
     "data": {
      "image/png": "[encoded data removed]",
      "text/plain": [
       "<Figure size 800x600 with 1 Axes>"
      ]
     },
     "metadata": {},
     "output_type": "display_data"
    }
   ],
   "source": [
    "plt.figure(figsize=(8,6))\n",
    "plt.plot(ma_100_days , 'r')\n",
    "plt.plot(ma_200_days , 'b')\n",
    "plt.plot(data.Close, 'g')\n",
    "plt.show()"
   ]
  },
  {
   "cell_type": "code",
   "execution_count": 10,
   "id": "1fa5401f-e5ac-4bf9-9d8a-2ca4509c5431",
   "metadata": {},
   "outputs": [],
   "source": [
    "data.dropna(inplace=True)"
   ]
  },
  {
   "cell_type": "markdown",
   "id": "f4453088-e8e1-4525-8e15-69dc53dc8148",
   "metadata": {},
   "source": [
    "# Train & Test Data Collection"
   ]
  },
  {
   "cell_type": "code",
   "execution_count": 11,
   "id": "51af6440-b768-4a4a-b64e-771a0d856cdf",
   "metadata": {},
   "outputs": [],
   "source": [
    "data_train=pd.DataFrame(data.Close[0: int(len(data)*0.80)])\n",
    "data_test=pd.DataFrame(data.Close[int(len(data)*0.80): len(data)])"
   ]
  },
  {
   "cell_type": "markdown",
   "id": "da7ecb73-4d0b-4bcc-af3e-c17463cba2a8",
   "metadata": {},
   "source": [
    "Here , for training data- starting point \"0\" to 80% of closing data"
   ]
  },
  {
   "cell_type": "markdown",
   "id": "181f2a05-6f83-4586-a018-cf86f4a19bf9",
   "metadata": {},
   "source": [
    "for testing data- starting point is 80% of data to remaining data"
   ]
  },
  {
   "cell_type": "code",
   "execution_count": 12,
   "id": "4ead7168-55d9-4dd5-b055-38250bc09046",
   "metadata": {},
   "outputs": [
    {
     "data": {
      "text/plain": [
       "(2208, 1)"
      ]
     },
     "execution_count": 12,
     "metadata": {},
     "output_type": "execute_result"
    }
   ],
   "source": [
    "data_train.shape      #80% of data"
   ]
  },
  {
   "cell_type": "code",
   "execution_count": 13,
   "id": "072e6f36-7c43-4f2c-a4ae-9daf30178a22",
   "metadata": {},
   "outputs": [
    {
     "data": {
      "text/plain": [
       "(553, 1)"
      ]
     },
     "execution_count": 13,
     "metadata": {},
     "output_type": "execute_result"
    }
   ],
   "source": [
    "data_test.shape       #20% of data"
   ]
  },
  {
   "cell_type": "markdown",
   "id": "55114f6a-4c84-424d-9880-f36d6b597d70",
   "metadata": {},
   "source": [
    "# Conversion of data into 0 & 1 format"
   ]
  },
  {
   "cell_type": "code",
   "execution_count": 14,
   "id": "de5a7b02-1e39-4070-a492-16d9ab79ee94",
   "metadata": {},
   "outputs": [],
   "source": [
    "from sklearn.preprocessing import MinMaxScaler"
   ]
  },
  {
   "cell_type": "code",
   "execution_count": 15,
   "id": "848bf8dd-c6e2-4ad8-837a-6b8883523c7d",
   "metadata": {},
   "outputs": [],
   "source": [
    "scaler=MinMaxScaler(feature_range=(0, 1))"
   ]
  },
  {
   "cell_type": "code",
   "execution_count": 16,
   "id": "d8ade7fa-833d-4c47-b5c0-99a8a9cf9177",
   "metadata": {},
   "outputs": [],
   "source": [
    "data_train_scale=scaler.fit_transform(data_train)"
   ]
  },
  {
   "cell_type": "code",
   "execution_count": 17,
   "id": "a7fb4238-1f4f-4d9a-bb89-85df48889095",
   "metadata": {},
   "outputs": [
    {
     "data": {
      "text/plain": [
       "2208"
      ]
     },
     "execution_count": 17,
     "metadata": {},
     "output_type": "execute_result"
    }
   ],
   "source": [
    "data_train_scale.shape[0]"
   ]
  },
  {
   "cell_type": "code",
   "execution_count": 18,
   "id": "3238de91-1d89-4bf5-965c-7864cf8d2469",
   "metadata": {},
   "outputs": [],
   "source": [
    "x=[]\n",
    "y=[] \n",
    "\n",
    "for i in range(100, data_train_scale.shape[0]):\n",
    "    x.append(data_train_scale[i-100:i])\n",
    "    y.append(data_train_scale[i,0])"
   ]
  },
  {
   "cell_type": "markdown",
   "id": "b5b73f94-7b07-431c-8e8e-3fb38782cfc4",
   "metadata": {},
   "source": [
    "So here , the array slicing has happened"
   ]
  },
  {
   "cell_type": "markdown",
   "id": "53d47d49-b9c8-43cc-9dd5-21fc51014bd8",
   "metadata": {},
   "source": [
    "has taken first 100 data, to calculate the next wanted data by the logic"
   ]
  },
  {
   "cell_type": "code",
   "execution_count": 19,
   "id": "c81e7d14-566a-4f14-8ea5-5fbc00939245",
   "metadata": {},
   "outputs": [],
   "source": [
    "x,y=np.array(x), np.array(y)"
   ]
  },
  {
   "cell_type": "markdown",
   "id": "8af99be3-87c1-4f03-a01f-1864a3b3533f",
   "metadata": {},
   "source": [
    "# Create Model"
   ]
  },
  {
   "cell_type": "code",
   "execution_count": 20,
   "id": "0d46e3e4-6254-4af4-89d2-b35c53e86d10",
   "metadata": {},
   "outputs": [],
   "source": [
    "from keras.layers import Dense , Dropout , LSTM\n",
    "from keras.models import Sequential"
   ]
  },
  {
   "cell_type": "code",
   "execution_count": 21,
   "id": "350be61b-9a53-4e46-8db7-4c9af5be7b6c",
   "metadata": {},
   "outputs": [
    {
     "name": "stderr",
     "output_type": "stream",
     "text": [
      "C:\\Users\\Aditya\\anaconda3\\Lib\\site-packages\\keras\\src\\layers\\rnn\\rnn.py:204: UserWarning: Do not pass an `input_shape`/`input_dim` argument to a layer. When using Sequential models, prefer using an `Input(shape)` object as the first layer in the model instead.\n",
      "  super().__init__(**kwargs)\n"
     ]
    }
   ],
   "source": [
    "model=Sequential()\n",
    "model.add(LSTM(units=50, activation='relu', return_sequences=True, input_shape=((x.shape[1],1)) ))\n",
    "model.add(Dropout(0.2)) #for avoiding the overfitting\n",
    "\n",
    "model.add(LSTM(units=60, activation='relu', return_sequences=True ))\n",
    "model.add(Dropout(0.3))\n",
    "\n",
    "model.add(LSTM(units=80, activation='relu', return_sequences=True ))\n",
    "model.add(Dropout(0.4))\n",
    "\n",
    "model.add(LSTM(units=120, activation='relu'))\n",
    "model.add(Dropout(0.5))\n",
    "\n",
    "model.add(Dense(units=1)) #units =1 because we are predicting one value only\n"
   ]
  },
  {
   "cell_type": "code",
   "execution_count": 22,
   "id": "9f4d168a-969b-4100-b717-8017f362257e",
   "metadata": {},
   "outputs": [],
   "source": [
    "model.compile(optimizer='adam' , loss='mean_squared_error')"
   ]
  },
  {
   "cell_type": "code",
   "execution_count": 23,
   "id": "d49c391b-06b4-459a-b96c-8aa430b9fc8a",
   "metadata": {
    "scrolled": true
   },
   "outputs": [
    {
     "name": "stdout",
     "output_type": "stream",
     "text": [
      "Epoch 1/50\n",
      "\u001b[1m66/66\u001b[0m \u001b[32m━━━━━━━━━━━━━━━━━━━━\u001b[0m\u001b[37m\u001b[0m \u001b[1m21s\u001b[0m 193ms/step - loss: 0.0324\n",
      "Epoch 2/50\n",
      "\u001b[1m66/66\u001b[0m \u001b[32m━━━━━━━━━━━━━━━━━━━━\u001b[0m\u001b[37m\u001b[0m \u001b[1m13s\u001b[0m 201ms/step - loss: 0.0032\n",
      "Epoch 3/50\n",
      "\u001b[1m66/66\u001b[0m \u001b[32m━━━━━━━━━━━━━━━━━━━━\u001b[0m\u001b[37m\u001b[0m \u001b[1m13s\u001b[0m 199ms/step - loss: 0.0030\n",
      "Epoch 4/50\n",
      "\u001b[1m66/66\u001b[0m \u001b[32m━━━━━━━━━━━━━━━━━━━━\u001b[0m\u001b[37m\u001b[0m \u001b[1m13s\u001b[0m 195ms/step - loss: 0.0030\n",
      "Epoch 5/50\n",
      "\u001b[1m66/66\u001b[0m \u001b[32m━━━━━━━━━━━━━━━━━━━━\u001b[0m\u001b[37m\u001b[0m \u001b[1m13s\u001b[0m 196ms/step - loss: 0.0027\n",
      "Epoch 6/50\n",
      "\u001b[1m66/66\u001b[0m \u001b[32m━━━━━━━━━━━━━━━━━━━━\u001b[0m\u001b[37m\u001b[0m \u001b[1m13s\u001b[0m 202ms/step - loss: 0.0023\n",
      "Epoch 7/50\n",
      "\u001b[1m66/66\u001b[0m \u001b[32m━━━━━━━━━━━━━━━━━━━━\u001b[0m\u001b[37m\u001b[0m \u001b[1m14s\u001b[0m 203ms/step - loss: 0.0022\n",
      "Epoch 8/50\n",
      "\u001b[1m66/66\u001b[0m \u001b[32m━━━━━━━━━━━━━━━━━━━━\u001b[0m\u001b[37m\u001b[0m \u001b[1m13s\u001b[0m 197ms/step - loss: 0.0023\n",
      "Epoch 9/50\n",
      "\u001b[1m66/66\u001b[0m \u001b[32m━━━━━━━━━━━━━━━━━━━━\u001b[0m\u001b[37m\u001b[0m \u001b[1m13s\u001b[0m 197ms/step - loss: 0.0026\n",
      "Epoch 10/50\n",
      "\u001b[1m66/66\u001b[0m \u001b[32m━━━━━━━━━━━━━━━━━━━━\u001b[0m\u001b[37m\u001b[0m \u001b[1m13s\u001b[0m 195ms/step - loss: 0.0025\n",
      "Epoch 11/50\n",
      "\u001b[1m66/66\u001b[0m \u001b[32m━━━━━━━━━━━━━━━━━━━━\u001b[0m\u001b[37m\u001b[0m \u001b[1m13s\u001b[0m 200ms/step - loss: 0.0021\n",
      "Epoch 12/50\n",
      "\u001b[1m66/66\u001b[0m \u001b[32m━━━━━━━━━━━━━━━━━━━━\u001b[0m\u001b[37m\u001b[0m \u001b[1m13s\u001b[0m 198ms/step - loss: 0.0024\n",
      "Epoch 13/50\n",
      "\u001b[1m66/66\u001b[0m \u001b[32m━━━━━━━━━━━━━━━━━━━━\u001b[0m\u001b[37m\u001b[0m \u001b[1m13s\u001b[0m 198ms/step - loss: 0.0020\n",
      "Epoch 14/50\n",
      "\u001b[1m66/66\u001b[0m \u001b[32m━━━━━━━━━━━━━━━━━━━━\u001b[0m\u001b[37m\u001b[0m \u001b[1m13s\u001b[0m 198ms/step - loss: 0.0019\n",
      "Epoch 15/50\n",
      "\u001b[1m66/66\u001b[0m \u001b[32m━━━━━━━━━━━━━━━━━━━━\u001b[0m\u001b[37m\u001b[0m \u001b[1m13s\u001b[0m 195ms/step - loss: 0.0026\n",
      "Epoch 16/50\n",
      "\u001b[1m66/66\u001b[0m \u001b[32m━━━━━━━━━━━━━━━━━━━━\u001b[0m\u001b[37m\u001b[0m \u001b[1m13s\u001b[0m 202ms/step - loss: 0.0020\n",
      "Epoch 17/50\n",
      "\u001b[1m66/66\u001b[0m \u001b[32m━━━━━━━━━━━━━━━━━━━━\u001b[0m\u001b[37m\u001b[0m \u001b[1m13s\u001b[0m 200ms/step - loss: 0.0027\n",
      "Epoch 18/50\n",
      "\u001b[1m66/66\u001b[0m \u001b[32m━━━━━━━━━━━━━━━━━━━━\u001b[0m\u001b[37m\u001b[0m \u001b[1m13s\u001b[0m 195ms/step - loss: 0.0019\n",
      "Epoch 19/50\n",
      "\u001b[1m66/66\u001b[0m \u001b[32m━━━━━━━━━━━━━━━━━━━━\u001b[0m\u001b[37m\u001b[0m \u001b[1m13s\u001b[0m 196ms/step - loss: 0.0020\n",
      "Epoch 20/50\n",
      "\u001b[1m66/66\u001b[0m \u001b[32m━━━━━━━━━━━━━━━━━━━━\u001b[0m\u001b[37m\u001b[0m \u001b[1m14s\u001b[0m 205ms/step - loss: 0.0021\n",
      "Epoch 21/50\n",
      "\u001b[1m66/66\u001b[0m \u001b[32m━━━━━━━━━━━━━━━━━━━━\u001b[0m\u001b[37m\u001b[0m \u001b[1m13s\u001b[0m 197ms/step - loss: 0.0014\n",
      "Epoch 22/50\n",
      "\u001b[1m66/66\u001b[0m \u001b[32m━━━━━━━━━━━━━━━━━━━━\u001b[0m\u001b[37m\u001b[0m \u001b[1m13s\u001b[0m 198ms/step - loss: 0.0017\n",
      "Epoch 23/50\n",
      "\u001b[1m66/66\u001b[0m \u001b[32m━━━━━━━━━━━━━━━━━━━━\u001b[0m\u001b[37m\u001b[0m \u001b[1m13s\u001b[0m 199ms/step - loss: 0.0019\n",
      "Epoch 24/50\n",
      "\u001b[1m66/66\u001b[0m \u001b[32m━━━━━━━━━━━━━━━━━━━━\u001b[0m\u001b[37m\u001b[0m \u001b[1m13s\u001b[0m 194ms/step - loss: 0.0018\n",
      "Epoch 25/50\n",
      "\u001b[1m66/66\u001b[0m \u001b[32m━━━━━━━━━━━━━━━━━━━━\u001b[0m\u001b[37m\u001b[0m \u001b[1m13s\u001b[0m 196ms/step - loss: 0.0019\n",
      "Epoch 26/50\n",
      "\u001b[1m66/66\u001b[0m \u001b[32m━━━━━━━━━━━━━━━━━━━━\u001b[0m\u001b[37m\u001b[0m \u001b[1m13s\u001b[0m 198ms/step - loss: 0.0017\n",
      "Epoch 27/50\n",
      "\u001b[1m66/66\u001b[0m \u001b[32m━━━━━━━━━━━━━━━━━━━━\u001b[0m\u001b[37m\u001b[0m \u001b[1m20s\u001b[0m 190ms/step - loss: 0.0016\n",
      "Epoch 28/50\n",
      "\u001b[1m66/66\u001b[0m \u001b[32m━━━━━━━━━━━━━━━━━━━━\u001b[0m\u001b[37m\u001b[0m \u001b[1m21s\u001b[0m 196ms/step - loss: 0.0021\n",
      "Epoch 29/50\n",
      "\u001b[1m66/66\u001b[0m \u001b[32m━━━━━━━━━━━━━━━━━━━━\u001b[0m\u001b[37m\u001b[0m \u001b[1m14s\u001b[0m 206ms/step - loss: 0.0017\n",
      "Epoch 30/50\n",
      "\u001b[1m66/66\u001b[0m \u001b[32m━━━━━━━━━━━━━━━━━━━━\u001b[0m\u001b[37m\u001b[0m \u001b[1m13s\u001b[0m 201ms/step - loss: 0.0019\n",
      "Epoch 31/50\n",
      "\u001b[1m66/66\u001b[0m \u001b[32m━━━━━━━━━━━━━━━━━━━━\u001b[0m\u001b[37m\u001b[0m \u001b[1m20s\u001b[0m 193ms/step - loss: 0.0020\n",
      "Epoch 32/50\n",
      "\u001b[1m66/66\u001b[0m \u001b[32m━━━━━━━━━━━━━━━━━━━━\u001b[0m\u001b[37m\u001b[0m \u001b[1m13s\u001b[0m 198ms/step - loss: 0.0019\n",
      "Epoch 33/50\n",
      "\u001b[1m66/66\u001b[0m \u001b[32m━━━━━━━━━━━━━━━━━━━━\u001b[0m\u001b[37m\u001b[0m \u001b[1m22s\u001b[0m 219ms/step - loss: 0.0021\n",
      "Epoch 34/50\n",
      "\u001b[1m66/66\u001b[0m \u001b[32m━━━━━━━━━━━━━━━━━━━━\u001b[0m\u001b[37m\u001b[0m \u001b[1m20s\u001b[0m 206ms/step - loss: 0.0018\n",
      "Epoch 35/50\n",
      "\u001b[1m66/66\u001b[0m \u001b[32m━━━━━━━━━━━━━━━━━━━━\u001b[0m\u001b[37m\u001b[0m \u001b[1m14s\u001b[0m 215ms/step - loss: 0.0016\n",
      "Epoch 36/50\n",
      "\u001b[1m66/66\u001b[0m \u001b[32m━━━━━━━━━━━━━━━━━━━━\u001b[0m\u001b[37m\u001b[0m \u001b[1m20s\u001b[0m 204ms/step - loss: 0.0017\n",
      "Epoch 37/50\n",
      "\u001b[1m66/66\u001b[0m \u001b[32m━━━━━━━━━━━━━━━━━━━━\u001b[0m\u001b[37m\u001b[0m \u001b[1m20s\u001b[0m 193ms/step - loss: 0.0015\n",
      "Epoch 38/50\n",
      "\u001b[1m66/66\u001b[0m \u001b[32m━━━━━━━━━━━━━━━━━━━━\u001b[0m\u001b[37m\u001b[0m \u001b[1m21s\u001b[0m 201ms/step - loss: 0.0022\n",
      "Epoch 39/50\n",
      "\u001b[1m66/66\u001b[0m \u001b[32m━━━━━━━━━━━━━━━━━━━━\u001b[0m\u001b[37m\u001b[0m \u001b[1m20s\u001b[0m 199ms/step - loss: 0.0016\n",
      "Epoch 40/50\n",
      "\u001b[1m66/66\u001b[0m \u001b[32m━━━━━━━━━━━━━━━━━━━━\u001b[0m\u001b[37m\u001b[0m \u001b[1m20s\u001b[0m 196ms/step - loss: 0.0015\n",
      "Epoch 41/50\n",
      "\u001b[1m66/66\u001b[0m \u001b[32m━━━━━━━━━━━━━━━━━━━━\u001b[0m\u001b[37m\u001b[0m \u001b[1m14s\u001b[0m 207ms/step - loss: 0.0017\n",
      "Epoch 42/50\n",
      "\u001b[1m66/66\u001b[0m \u001b[32m━━━━━━━━━━━━━━━━━━━━\u001b[0m\u001b[37m\u001b[0m \u001b[1m13s\u001b[0m 201ms/step - loss: 0.0018\n",
      "Epoch 43/50\n",
      "\u001b[1m66/66\u001b[0m \u001b[32m━━━━━━━━━━━━━━━━━━━━\u001b[0m\u001b[37m\u001b[0m \u001b[1m13s\u001b[0m 202ms/step - loss: 0.0015\n",
      "Epoch 44/50\n",
      "\u001b[1m66/66\u001b[0m \u001b[32m━━━━━━━━━━━━━━━━━━━━\u001b[0m\u001b[37m\u001b[0m \u001b[1m21s\u001b[0m 211ms/step - loss: 0.0017\n",
      "Epoch 45/50\n",
      "\u001b[1m66/66\u001b[0m \u001b[32m━━━━━━━━━━━━━━━━━━━━\u001b[0m\u001b[37m\u001b[0m \u001b[1m19s\u001b[0m 194ms/step - loss: 0.0016\n",
      "Epoch 46/50\n",
      "\u001b[1m66/66\u001b[0m \u001b[32m━━━━━━━━━━━━━━━━━━━━\u001b[0m\u001b[37m\u001b[0m \u001b[1m14s\u001b[0m 208ms/step - loss: 0.0015\n",
      "Epoch 47/50\n",
      "\u001b[1m66/66\u001b[0m \u001b[32m━━━━━━━━━━━━━━━━━━━━\u001b[0m\u001b[37m\u001b[0m \u001b[1m20s\u001b[0m 194ms/step - loss: 0.0015\n",
      "Epoch 48/50\n",
      "\u001b[1m66/66\u001b[0m \u001b[32m━━━━━━━━━━━━━━━━━━━━\u001b[0m\u001b[37m\u001b[0m \u001b[1m21s\u001b[0m 198ms/step - loss: 0.0014\n",
      "Epoch 49/50\n",
      "\u001b[1m66/66\u001b[0m \u001b[32m━━━━━━━━━━━━━━━━━━━━\u001b[0m\u001b[37m\u001b[0m \u001b[1m21s\u001b[0m 203ms/step - loss: 0.0014\n",
      "Epoch 50/50\n",
      "\u001b[1m66/66\u001b[0m \u001b[32m━━━━━━━━━━━━━━━━━━━━\u001b[0m\u001b[37m\u001b[0m \u001b[1m13s\u001b[0m 203ms/step - loss: 0.0017\n"
     ]
    },
    {
     "data": {
      "text/plain": [
       "<keras.src.callbacks.history.History at 0x2355230cbd0>"
      ]
     },
     "execution_count": 23,
     "metadata": {},
     "output_type": "execute_result"
    }
   ],
   "source": [
    "model.fit(x,y,epochs=50,batch_size=32, verbose=1 ) #verbose - for printing "
   ]
  },
  {
   "cell_type": "code",
   "execution_count": 24,
   "id": "7c58e1be-78a8-4310-b562-2833a053109c",
   "metadata": {},
   "outputs": [
    {
     "data": {
      "text/html": [
       "<pre style=\"white-space:pre;overflow-x:auto;line-height:normal;font-family:Menlo,'DejaVu Sans Mono',consolas,'Courier New',monospace\"><span style=\"font-weight: bold\">Model: \"sequential\"</span>\n",
       "</pre>\n"
      ],
      "text/plain": [
       "\u001b[1mModel: \"sequential\"\u001b[0m\n"
      ]
     },
     "metadata": {},
     "output_type": "display_data"
    },
    {
     "data": {
      "text/html": [
       "<pre style=\"white-space:pre;overflow-x:auto;line-height:normal;font-family:Menlo,'DejaVu Sans Mono',consolas,'Courier New',monospace\">┏━━━━━━━━━━━━━━━━━━━━━━━━━━━━━━━━━┳━━━━━━━━━━━━━━━━━━━━━━━━┳━━━━━━━━━━━━━━━┓\n",
       "┃<span style=\"font-weight: bold\"> Layer (type)                    </span>┃<span style=\"font-weight: bold\"> Output Shape           </span>┃<span style=\"font-weight: bold\">       Param # </span>┃\n",
       "┡━━━━━━━━━━━━━━━━━━━━━━━━━━━━━━━━━╇━━━━━━━━━━━━━━━━━━━━━━━━╇━━━━━━━━━━━━━━━┩\n",
       "│ lstm (<span style=\"color: #0087ff; text-decoration-color: #0087ff\">LSTM</span>)                     │ (<span style=\"color: #00d7ff; text-decoration-color: #00d7ff\">None</span>, <span style=\"color: #00af00; text-decoration-color: #00af00\">100</span>, <span style=\"color: #00af00; text-decoration-color: #00af00\">50</span>)        │        <span style=\"color: #00af00; text-decoration-color: #00af00\">10,400</span> │\n",
       "├─────────────────────────────────┼────────────────────────┼───────────────┤\n",
       "│ dropout (<span style=\"color: #0087ff; text-decoration-color: #0087ff\">Dropout</span>)               │ (<span style=\"color: #00d7ff; text-decoration-color: #00d7ff\">None</span>, <span style=\"color: #00af00; text-decoration-color: #00af00\">100</span>, <span style=\"color: #00af00; text-decoration-color: #00af00\">50</span>)        │             <span style=\"color: #00af00; text-decoration-color: #00af00\">0</span> │\n",
       "├─────────────────────────────────┼────────────────────────┼───────────────┤\n",
       "│ lstm_1 (<span style=\"color: #0087ff; text-decoration-color: #0087ff\">LSTM</span>)                   │ (<span style=\"color: #00d7ff; text-decoration-color: #00d7ff\">None</span>, <span style=\"color: #00af00; text-decoration-color: #00af00\">100</span>, <span style=\"color: #00af00; text-decoration-color: #00af00\">60</span>)        │        <span style=\"color: #00af00; text-decoration-color: #00af00\">26,640</span> │\n",
       "├─────────────────────────────────┼────────────────────────┼───────────────┤\n",
       "│ dropout_1 (<span style=\"color: #0087ff; text-decoration-color: #0087ff\">Dropout</span>)             │ (<span style=\"color: #00d7ff; text-decoration-color: #00d7ff\">None</span>, <span style=\"color: #00af00; text-decoration-color: #00af00\">100</span>, <span style=\"color: #00af00; text-decoration-color: #00af00\">60</span>)        │             <span style=\"color: #00af00; text-decoration-color: #00af00\">0</span> │\n",
       "├─────────────────────────────────┼────────────────────────┼───────────────┤\n",
       "│ lstm_2 (<span style=\"color: #0087ff; text-decoration-color: #0087ff\">LSTM</span>)                   │ (<span style=\"color: #00d7ff; text-decoration-color: #00d7ff\">None</span>, <span style=\"color: #00af00; text-decoration-color: #00af00\">100</span>, <span style=\"color: #00af00; text-decoration-color: #00af00\">80</span>)        │        <span style=\"color: #00af00; text-decoration-color: #00af00\">45,120</span> │\n",
       "├─────────────────────────────────┼────────────────────────┼───────────────┤\n",
       "│ dropout_2 (<span style=\"color: #0087ff; text-decoration-color: #0087ff\">Dropout</span>)             │ (<span style=\"color: #00d7ff; text-decoration-color: #00d7ff\">None</span>, <span style=\"color: #00af00; text-decoration-color: #00af00\">100</span>, <span style=\"color: #00af00; text-decoration-color: #00af00\">80</span>)        │             <span style=\"color: #00af00; text-decoration-color: #00af00\">0</span> │\n",
       "├─────────────────────────────────┼────────────────────────┼───────────────┤\n",
       "│ lstm_3 (<span style=\"color: #0087ff; text-decoration-color: #0087ff\">LSTM</span>)                   │ (<span style=\"color: #00d7ff; text-decoration-color: #00d7ff\">None</span>, <span style=\"color: #00af00; text-decoration-color: #00af00\">120</span>)            │        <span style=\"color: #00af00; text-decoration-color: #00af00\">96,480</span> │\n",
       "├─────────────────────────────────┼────────────────────────┼───────────────┤\n",
       "│ dropout_3 (<span style=\"color: #0087ff; text-decoration-color: #0087ff\">Dropout</span>)             │ (<span style=\"color: #00d7ff; text-decoration-color: #00d7ff\">None</span>, <span style=\"color: #00af00; text-decoration-color: #00af00\">120</span>)            │             <span style=\"color: #00af00; text-decoration-color: #00af00\">0</span> │\n",
       "├─────────────────────────────────┼────────────────────────┼───────────────┤\n",
       "│ dense (<span style=\"color: #0087ff; text-decoration-color: #0087ff\">Dense</span>)                   │ (<span style=\"color: #00d7ff; text-decoration-color: #00d7ff\">None</span>, <span style=\"color: #00af00; text-decoration-color: #00af00\">1</span>)              │           <span style=\"color: #00af00; text-decoration-color: #00af00\">121</span> │\n",
       "└─────────────────────────────────┴────────────────────────┴───────────────┘\n",
       "</pre>\n"
      ],
      "text/plain": [
       "┏━━━━━━━━━━━━━━━━━━━━━━━━━━━━━━━━━┳━━━━━━━━━━━━━━━━━━━━━━━━┳━━━━━━━━━━━━━━━┓\n",
       "┃\u001b[1m \u001b[0m\u001b[1mLayer (type)                   \u001b[0m\u001b[1m \u001b[0m┃\u001b[1m \u001b[0m\u001b[1mOutput Shape          \u001b[0m\u001b[1m \u001b[0m┃\u001b[1m \u001b[0m\u001b[1m      Param #\u001b[0m\u001b[1m \u001b[0m┃\n",
       "┡━━━━━━━━━━━━━━━━━━━━━━━━━━━━━━━━━╇━━━━━━━━━━━━━━━━━━━━━━━━╇━━━━━━━━━━━━━━━┩\n",
       "│ lstm (\u001b[38;5;33mLSTM\u001b[0m)                     │ (\u001b[38;5;45mNone\u001b[0m, \u001b[38;5;34m100\u001b[0m, \u001b[38;5;34m50\u001b[0m)        │        \u001b[38;5;34m10,400\u001b[0m │\n",
       "├─────────────────────────────────┼────────────────────────┼───────────────┤\n",
       "│ dropout (\u001b[38;5;33mDropout\u001b[0m)               │ (\u001b[38;5;45mNone\u001b[0m, \u001b[38;5;34m100\u001b[0m, \u001b[38;5;34m50\u001b[0m)        │             \u001b[38;5;34m0\u001b[0m │\n",
       "├─────────────────────────────────┼────────────────────────┼───────────────┤\n",
       "│ lstm_1 (\u001b[38;5;33mLSTM\u001b[0m)                   │ (\u001b[38;5;45mNone\u001b[0m, \u001b[38;5;34m100\u001b[0m, \u001b[38;5;34m60\u001b[0m)        │        \u001b[38;5;34m26,640\u001b[0m │\n",
       "├─────────────────────────────────┼────────────────────────┼───────────────┤\n",
       "│ dropout_1 (\u001b[38;5;33mDropout\u001b[0m)             │ (\u001b[38;5;45mNone\u001b[0m, \u001b[38;5;34m100\u001b[0m, \u001b[38;5;34m60\u001b[0m)        │             \u001b[38;5;34m0\u001b[0m │\n",
       "├─────────────────────────────────┼────────────────────────┼───────────────┤\n",
       "│ lstm_2 (\u001b[38;5;33mLSTM\u001b[0m)                   │ (\u001b[38;5;45mNone\u001b[0m, \u001b[38;5;34m100\u001b[0m, \u001b[38;5;34m80\u001b[0m)        │        \u001b[38;5;34m45,120\u001b[0m │\n",
       "├─────────────────────────────────┼────────────────────────┼───────────────┤\n",
       "│ dropout_2 (\u001b[38;5;33mDropout\u001b[0m)             │ (\u001b[38;5;45mNone\u001b[0m, \u001b[38;5;34m100\u001b[0m, \u001b[38;5;34m80\u001b[0m)        │             \u001b[38;5;34m0\u001b[0m │\n",
       "├─────────────────────────────────┼────────────────────────┼───────────────┤\n",
       "│ lstm_3 (\u001b[38;5;33mLSTM\u001b[0m)                   │ (\u001b[38;5;45mNone\u001b[0m, \u001b[38;5;34m120\u001b[0m)            │        \u001b[38;5;34m96,480\u001b[0m │\n",
       "├─────────────────────────────────┼────────────────────────┼───────────────┤\n",
       "│ dropout_3 (\u001b[38;5;33mDropout\u001b[0m)             │ (\u001b[38;5;45mNone\u001b[0m, \u001b[38;5;34m120\u001b[0m)            │             \u001b[38;5;34m0\u001b[0m │\n",
       "├─────────────────────────────────┼────────────────────────┼───────────────┤\n",
       "│ dense (\u001b[38;5;33mDense\u001b[0m)                   │ (\u001b[38;5;45mNone\u001b[0m, \u001b[38;5;34m1\u001b[0m)              │           \u001b[38;5;34m121\u001b[0m │\n",
       "└─────────────────────────────────┴────────────────────────┴───────────────┘\n"
      ]
     },
     "metadata": {},
     "output_type": "display_data"
    },
    {
     "data": {
      "text/html": [
       "<pre style=\"white-space:pre;overflow-x:auto;line-height:normal;font-family:Menlo,'DejaVu Sans Mono',consolas,'Courier New',monospace\"><span style=\"font-weight: bold\"> Total params: </span><span style=\"color: #00af00; text-decoration-color: #00af00\">536,285</span> (2.05 MB)\n",
       "</pre>\n"
      ],
      "text/plain": [
       "\u001b[1m Total params: \u001b[0m\u001b[38;5;34m536,285\u001b[0m (2.05 MB)\n"
      ]
     },
     "metadata": {},
     "output_type": "display_data"
    },
    {
     "data": {
      "text/html": [
       "<pre style=\"white-space:pre;overflow-x:auto;line-height:normal;font-family:Menlo,'DejaVu Sans Mono',consolas,'Courier New',monospace\"><span style=\"font-weight: bold\"> Trainable params: </span><span style=\"color: #00af00; text-decoration-color: #00af00\">178,761</span> (698.29 KB)\n",
       "</pre>\n"
      ],
      "text/plain": [
       "\u001b[1m Trainable params: \u001b[0m\u001b[38;5;34m178,761\u001b[0m (698.29 KB)\n"
      ]
     },
     "metadata": {},
     "output_type": "display_data"
    },
    {
     "data": {
      "text/html": [
       "<pre style=\"white-space:pre;overflow-x:auto;line-height:normal;font-family:Menlo,'DejaVu Sans Mono',consolas,'Courier New',monospace\"><span style=\"font-weight: bold\"> Non-trainable params: </span><span style=\"color: #00af00; text-decoration-color: #00af00\">0</span> (0.00 B)\n",
       "</pre>\n"
      ],
      "text/plain": [
       "\u001b[1m Non-trainable params: \u001b[0m\u001b[38;5;34m0\u001b[0m (0.00 B)\n"
      ]
     },
     "metadata": {},
     "output_type": "display_data"
    },
    {
     "data": {
      "text/html": [
       "<pre style=\"white-space:pre;overflow-x:auto;line-height:normal;font-family:Menlo,'DejaVu Sans Mono',consolas,'Courier New',monospace\"><span style=\"font-weight: bold\"> Optimizer params: </span><span style=\"color: #00af00; text-decoration-color: #00af00\">357,524</span> (1.36 MB)\n",
       "</pre>\n"
      ],
      "text/plain": [
       "\u001b[1m Optimizer params: \u001b[0m\u001b[38;5;34m357,524\u001b[0m (1.36 MB)\n"
      ]
     },
     "metadata": {},
     "output_type": "display_data"
    }
   ],
   "source": [
    "model.summary()"
   ]
  },
  {
   "cell_type": "code",
   "execution_count": 25,
   "id": "af31f196-cde2-4532-b451-26055d837a5d",
   "metadata": {},
   "outputs": [],
   "source": [
    "pas_100_days=data_train.tail(100)"
   ]
  },
  {
   "cell_type": "code",
   "execution_count": 26,
   "id": "285954bc-e223-4c91-94cc-fb34ef7a221d",
   "metadata": {},
   "outputs": [],
   "source": [
    "data_test=pd.concat([pas_100_days, data_test], ignore_index=True)"
   ]
  },
  {
   "cell_type": "code",
   "execution_count": 27,
   "id": "be1b8b10-8360-4c8e-a764-f7d7b561f6d7",
   "metadata": {},
   "outputs": [
    {
     "data": {
      "text/html": [
       "<div>\n",
       "<style scoped>\n",
       "    .dataframe tbody tr th:only-of-type {\n",
       "        vertical-align: middle;\n",
       "    }\n",
       "\n",
       "    .dataframe tbody tr th {\n",
       "        vertical-align: top;\n",
       "    }\n",
       "\n",
       "    .dataframe thead th {\n",
       "        text-align: right;\n",
       "    }\n",
       "</style>\n",
       "<table border=\"1\" class=\"dataframe\">\n",
       "  <thead>\n",
       "    <tr style=\"text-align: right;\">\n",
       "      <th></th>\n",
       "      <th>Close</th>\n",
       "    </tr>\n",
       "  </thead>\n",
       "  <tbody>\n",
       "    <tr>\n",
       "      <th>0</th>\n",
       "      <td>8.970000</td>\n",
       "    </tr>\n",
       "    <tr>\n",
       "      <th>1</th>\n",
       "      <td>8.775250</td>\n",
       "    </tr>\n",
       "    <tr>\n",
       "      <th>2</th>\n",
       "      <td>9.026250</td>\n",
       "    </tr>\n",
       "    <tr>\n",
       "      <th>3</th>\n",
       "      <td>8.717750</td>\n",
       "    </tr>\n",
       "    <tr>\n",
       "      <th>4</th>\n",
       "      <td>8.525250</td>\n",
       "    </tr>\n",
       "    <tr>\n",
       "      <th>...</th>\n",
       "      <td>...</td>\n",
       "    </tr>\n",
       "    <tr>\n",
       "      <th>648</th>\n",
       "      <td>17.674000</td>\n",
       "    </tr>\n",
       "    <tr>\n",
       "      <th>649</th>\n",
       "      <td>16.952000</td>\n",
       "    </tr>\n",
       "    <tr>\n",
       "      <th>650</th>\n",
       "      <td>16.570999</td>\n",
       "    </tr>\n",
       "    <tr>\n",
       "      <th>651</th>\n",
       "      <td>16.254000</td>\n",
       "    </tr>\n",
       "    <tr>\n",
       "      <th>652</th>\n",
       "      <td>16.084999</td>\n",
       "    </tr>\n",
       "  </tbody>\n",
       "</table>\n",
       "<p>653 rows × 1 columns</p>\n",
       "</div>"
      ],
      "text/plain": [
       "         Close\n",
       "0     8.970000\n",
       "1     8.775250\n",
       "2     9.026250\n",
       "3     8.717750\n",
       "4     8.525250\n",
       "..         ...\n",
       "648  17.674000\n",
       "649  16.952000\n",
       "650  16.570999\n",
       "651  16.254000\n",
       "652  16.084999\n",
       "\n",
       "[653 rows x 1 columns]"
      ]
     },
     "execution_count": 27,
     "metadata": {},
     "output_type": "execute_result"
    }
   ],
   "source": [
    "data_test"
   ]
  },
  {
   "cell_type": "markdown",
   "id": "910f5fc9-bd33-4331-aedb-3138b65e27c4",
   "metadata": {},
   "source": [
    "100 rows of train data got added"
   ]
  },
  {
   "cell_type": "code",
   "execution_count": 28,
   "id": "d8bba6b3-8ac8-4e2a-a91d-a8d32d7e58cf",
   "metadata": {},
   "outputs": [],
   "source": [
    "data_test_scale= scaler.fit_transform(data_test)"
   ]
  },
  {
   "cell_type": "code",
   "execution_count": 29,
   "id": "45c94f21-6113-4e3b-bc52-3acc64ad672e",
   "metadata": {},
   "outputs": [],
   "source": [
    "x=[]\n",
    "y=[] \n",
    "\n",
    "for i in range(100, data_test_scale.shape[0]):\n",
    "    x.append(data_test_scale[i-100:i])\n",
    "    y.append(data_test_scale[i,0])"
   ]
  },
  {
   "cell_type": "code",
   "execution_count": 30,
   "id": "06a7c90f-6004-4ac4-9638-014aab6ec965",
   "metadata": {},
   "outputs": [],
   "source": [
    "x,y=np.array(x), np.array(y)"
   ]
  },
  {
   "cell_type": "code",
   "execution_count": 31,
   "id": "c41e5fb6-01f0-4574-bf00-ebae8e45b349",
   "metadata": {},
   "outputs": [
    {
     "name": "stdout",
     "output_type": "stream",
     "text": [
      "\u001b[1m18/18\u001b[0m \u001b[32m━━━━━━━━━━━━━━━━━━━━\u001b[0m\u001b[37m\u001b[0m \u001b[1m3s\u001b[0m 111ms/step\n"
     ]
    }
   ],
   "source": [
    "y_predict=model.predict(x)"
   ]
  },
  {
   "cell_type": "code",
   "execution_count": 32,
   "id": "dfc62cac-781c-4fa8-b00e-8baadbf2d53a",
   "metadata": {
    "scrolled": true
   },
   "outputs": [],
   "source": [
    "#array_3d=np.array(y_predict)"
   ]
  },
  {
   "cell_type": "code",
   "execution_count": 33,
   "id": "178039ff-1fe2-4ed1-9726-dfbc1a1857fd",
   "metadata": {},
   "outputs": [],
   "source": [
    "#array_2d=array_3d.reshape(-1, array_3d.shape[2])"
   ]
  },
  {
   "cell_type": "code",
   "execution_count": 34,
   "id": "d8cac91e-b45d-465e-bd5b-770d3bde1dc6",
   "metadata": {},
   "outputs": [],
   "source": [
    "#array_2d"
   ]
  },
  {
   "cell_type": "code",
   "execution_count": 35,
   "id": "b09feedf-f6c7-4048-bb2b-6a59524affc3",
   "metadata": {
    "scrolled": true
   },
   "outputs": [
    {
     "data": {
      "text/plain": [
       "array([[0.18087035],\n",
       "       [0.18350846],\n",
       "       [0.1867508 ],\n",
       "       [0.19054341],\n",
       "       [0.1947206 ],\n",
       "       [0.19901466],\n",
       "       [0.20311478],\n",
       "       [0.20673628],\n",
       "       [0.20968962],\n",
       "       [0.21187505],\n",
       "       [0.21329805],\n",
       "       [0.21394941],\n",
       "       [0.21390143],\n",
       "       [0.21314958],\n",
       "       [0.21177715],\n",
       "       [0.2098692 ],\n",
       "       [0.20753   ],\n",
       "       [0.20489207],\n",
       "       [0.20218149],\n",
       "       [0.19973367],\n",
       "       [0.19796407],\n",
       "       [0.19695629],\n",
       "       [0.19647612],\n",
       "       [0.19633323],\n",
       "       [0.19638626],\n",
       "       [0.1965062 ],\n",
       "       [0.19663867],\n",
       "       [0.19674748],\n",
       "       [0.1968149 ],\n",
       "       [0.19683784],\n",
       "       [0.19676276],\n",
       "       [0.19654584],\n",
       "       [0.19613886],\n",
       "       [0.19555342],\n",
       "       [0.19483286],\n",
       "       [0.19405541],\n",
       "       [0.19329625],\n",
       "       [0.1926434 ],\n",
       "       [0.19213718],\n",
       "       [0.19181895],\n",
       "       [0.19172345],\n",
       "       [0.19181377],\n",
       "       [0.1919615 ],\n",
       "       [0.19204158],\n",
       "       [0.19197407],\n",
       "       [0.19175798],\n",
       "       [0.19144025],\n",
       "       [0.1910604 ],\n",
       "       [0.19066702],\n",
       "       [0.1902895 ],\n",
       "       [0.18995526],\n",
       "       [0.18967453],\n",
       "       [0.18940538],\n",
       "       [0.18910474],\n",
       "       [0.18873352],\n",
       "       [0.18827343],\n",
       "       [0.18774422],\n",
       "       [0.1871737 ],\n",
       "       [0.18658814],\n",
       "       [0.18604064],\n",
       "       [0.18551125],\n",
       "       [0.1850281 ],\n",
       "       [0.18461624],\n",
       "       [0.1843547 ],\n",
       "       [0.18429703],\n",
       "       [0.18447727],\n",
       "       [0.18484765],\n",
       "       [0.18528213],\n",
       "       [0.18567577],\n",
       "       [0.186007  ],\n",
       "       [0.18638441],\n",
       "       [0.18691203],\n",
       "       [0.18765011],\n",
       "       [0.1885666 ],\n",
       "       [0.18950224],\n",
       "       [0.19031571],\n",
       "       [0.19089729],\n",
       "       [0.19122218],\n",
       "       [0.19136819],\n",
       "       [0.19143265],\n",
       "       [0.19152822],\n",
       "       [0.1917314 ],\n",
       "       [0.19227952],\n",
       "       [0.19340508],\n",
       "       [0.19545993],\n",
       "       [0.19903268],\n",
       "       [0.20452291],\n",
       "       [0.21184431],\n",
       "       [0.22037408],\n",
       "       [0.22923674],\n",
       "       [0.23773596],\n",
       "       [0.24525243],\n",
       "       [0.25136256],\n",
       "       [0.25593925],\n",
       "       [0.25871494],\n",
       "       [0.259803  ],\n",
       "       [0.2595217 ],\n",
       "       [0.25801057],\n",
       "       [0.25531352],\n",
       "       [0.2515555 ],\n",
       "       [0.24689758],\n",
       "       [0.24145389],\n",
       "       [0.2354361 ],\n",
       "       [0.22906674],\n",
       "       [0.22260147],\n",
       "       [0.21627608],\n",
       "       [0.21038789],\n",
       "       [0.20506449],\n",
       "       [0.20038792],\n",
       "       [0.1963662 ],\n",
       "       [0.19295898],\n",
       "       [0.19011655],\n",
       "       [0.18778065],\n",
       "       [0.18587169],\n",
       "       [0.18429676],\n",
       "       [0.18298733],\n",
       "       [0.1819008 ],\n",
       "       [0.18100008],\n",
       "       [0.18028812],\n",
       "       [0.17984428],\n",
       "       [0.17979668],\n",
       "       [0.18024398],\n",
       "       [0.18130657],\n",
       "       [0.18313894],\n",
       "       [0.18593244],\n",
       "       [0.1901566 ],\n",
       "       [0.19652736],\n",
       "       [0.20500764],\n",
       "       [0.21529856],\n",
       "       [0.22668537],\n",
       "       [0.23817174],\n",
       "       [0.24890348],\n",
       "       [0.25837258],\n",
       "       [0.26617944],\n",
       "       [0.27231407],\n",
       "       [0.27702528],\n",
       "       [0.28058097],\n",
       "       [0.28319022],\n",
       "       [0.28505027],\n",
       "       [0.28622094],\n",
       "       [0.28670016],\n",
       "       [0.28637627],\n",
       "       [0.28525954],\n",
       "       [0.2834223 ],\n",
       "       [0.28113934],\n",
       "       [0.27849472],\n",
       "       [0.27558574],\n",
       "       [0.2723714 ],\n",
       "       [0.26886216],\n",
       "       [0.26526174],\n",
       "       [0.26175806],\n",
       "       [0.25836822],\n",
       "       [0.25516313],\n",
       "       [0.25243476],\n",
       "       [0.25067887],\n",
       "       [0.25030684],\n",
       "       [0.2515636 ],\n",
       "       [0.25427002],\n",
       "       [0.2580611 ],\n",
       "       [0.26280805],\n",
       "       [0.2682759 ],\n",
       "       [0.2744716 ],\n",
       "       [0.2814815 ],\n",
       "       [0.28949946],\n",
       "       [0.2985177 ],\n",
       "       [0.3081882 ],\n",
       "       [0.317972  ],\n",
       "       [0.32737705],\n",
       "       [0.33621293],\n",
       "       [0.344465  ],\n",
       "       [0.35200593],\n",
       "       [0.35871673],\n",
       "       [0.36492088],\n",
       "       [0.37089255],\n",
       "       [0.37664023],\n",
       "       [0.38228607],\n",
       "       [0.38794574],\n",
       "       [0.39368567],\n",
       "       [0.39937535],\n",
       "       [0.40528214],\n",
       "       [0.41157466],\n",
       "       [0.41820836],\n",
       "       [0.4250903 ],\n",
       "       [0.43216828],\n",
       "       [0.43941087],\n",
       "       [0.44654855],\n",
       "       [0.45302725],\n",
       "       [0.4585066 ],\n",
       "       [0.46308804],\n",
       "       [0.46681762],\n",
       "       [0.46954077],\n",
       "       [0.47073567],\n",
       "       [0.46979934],\n",
       "       [0.4668701 ],\n",
       "       [0.46232194],\n",
       "       [0.4570208 ],\n",
       "       [0.4518792 ],\n",
       "       [0.44750634],\n",
       "       [0.4440698 ],\n",
       "       [0.44148713],\n",
       "       [0.4397457 ],\n",
       "       [0.43886572],\n",
       "       [0.43870848],\n",
       "       [0.43921   ],\n",
       "       [0.44030175],\n",
       "       [0.44208705],\n",
       "       [0.44474742],\n",
       "       [0.44816208],\n",
       "       [0.45204645],\n",
       "       [0.45590475],\n",
       "       [0.4592069 ],\n",
       "       [0.46174183],\n",
       "       [0.46363625],\n",
       "       [0.46495295],\n",
       "       [0.46550855],\n",
       "       [0.46502018],\n",
       "       [0.46377945],\n",
       "       [0.46265945],\n",
       "       [0.4628955 ],\n",
       "       [0.4651781 ],\n",
       "       [0.46984544],\n",
       "       [0.47666016],\n",
       "       [0.48533735],\n",
       "       [0.49540907],\n",
       "       [0.5060852 ],\n",
       "       [0.516644  ],\n",
       "       [0.5265043 ],\n",
       "       [0.53553903],\n",
       "       [0.54362434],\n",
       "       [0.5505302 ],\n",
       "       [0.55603266],\n",
       "       [0.56024605],\n",
       "       [0.5631944 ],\n",
       "       [0.5650279 ],\n",
       "       [0.5660083 ],\n",
       "       [0.56633765],\n",
       "       [0.5660016 ],\n",
       "       [0.56458646],\n",
       "       [0.5619818 ],\n",
       "       [0.5587047 ],\n",
       "       [0.55557555],\n",
       "       [0.5529876 ],\n",
       "       [0.5508561 ],\n",
       "       [0.54848856],\n",
       "       [0.5452991 ],\n",
       "       [0.5411697 ],\n",
       "       [0.5362749 ],\n",
       "       [0.53037876],\n",
       "       [0.5238183 ],\n",
       "       [0.5171812 ],\n",
       "       [0.51117754],\n",
       "       [0.5061851 ],\n",
       "       [0.50224835],\n",
       "       [0.499253  ],\n",
       "       [0.49718213],\n",
       "       [0.49640763],\n",
       "       [0.49717957],\n",
       "       [0.49966335],\n",
       "       [0.503769  ],\n",
       "       [0.5090637 ],\n",
       "       [0.51535183],\n",
       "       [0.52237684],\n",
       "       [0.5300471 ],\n",
       "       [0.53905123],\n",
       "       [0.5495507 ],\n",
       "       [0.56154513],\n",
       "       [0.57501763],\n",
       "       [0.5897281 ],\n",
       "       [0.6054504 ],\n",
       "       [0.62178725],\n",
       "       [0.64016056],\n",
       "       [0.6609861 ],\n",
       "       [0.6843046 ],\n",
       "       [0.7091374 ],\n",
       "       [0.73338073],\n",
       "       [0.7559749 ],\n",
       "       [0.7762661 ],\n",
       "       [0.7937443 ],\n",
       "       [0.80835295],\n",
       "       [0.8197782 ],\n",
       "       [0.82930505],\n",
       "       [0.83861804],\n",
       "       [0.84801143],\n",
       "       [0.8571794 ],\n",
       "       [0.8662177 ],\n",
       "       [0.8744837 ],\n",
       "       [0.88243896],\n",
       "       [0.8900187 ],\n",
       "       [0.8964401 ],\n",
       "       [0.9015879 ],\n",
       "       [0.90484464],\n",
       "       [0.90570027],\n",
       "       [0.90535796],\n",
       "       [0.9045862 ],\n",
       "       [0.90316164],\n",
       "       [0.9008158 ],\n",
       "       [0.8965443 ],\n",
       "       [0.89006674],\n",
       "       [0.88271856],\n",
       "       [0.87471145],\n",
       "       [0.8659058 ],\n",
       "       [0.85635537],\n",
       "       [0.84701806],\n",
       "       [0.8388463 ],\n",
       "       [0.8325071 ],\n",
       "       [0.82887274],\n",
       "       [0.8278798 ],\n",
       "       [0.8288765 ],\n",
       "       [0.83090556],\n",
       "       [0.83313525],\n",
       "       [0.835415  ],\n",
       "       [0.83729583],\n",
       "       [0.8376316 ],\n",
       "       [0.8362074 ],\n",
       "       [0.8327687 ],\n",
       "       [0.82754904],\n",
       "       [0.8212569 ],\n",
       "       [0.81468636],\n",
       "       [0.80769634],\n",
       "       [0.8004108 ],\n",
       "       [0.7925258 ],\n",
       "       [0.78358203],\n",
       "       [0.7730565 ],\n",
       "       [0.7605495 ],\n",
       "       [0.74620277],\n",
       "       [0.7300298 ],\n",
       "       [0.71261936],\n",
       "       [0.6943405 ],\n",
       "       [0.67613834],\n",
       "       [0.6597268 ],\n",
       "       [0.64644533],\n",
       "       [0.63727224],\n",
       "       [0.63170975],\n",
       "       [0.6290569 ],\n",
       "       [0.6287945 ],\n",
       "       [0.6305812 ],\n",
       "       [0.6349301 ],\n",
       "       [0.64138186],\n",
       "       [0.6480908 ],\n",
       "       [0.6538538 ],\n",
       "       [0.65929705],\n",
       "       [0.66505706],\n",
       "       [0.6702977 ],\n",
       "       [0.6737916 ],\n",
       "       [0.67480516],\n",
       "       [0.6726985 ],\n",
       "       [0.66821206],\n",
       "       [0.6625386 ],\n",
       "       [0.6568042 ],\n",
       "       [0.6512867 ],\n",
       "       [0.64645153],\n",
       "       [0.6423236 ],\n",
       "       [0.63839126],\n",
       "       [0.6334243 ],\n",
       "       [0.6268141 ],\n",
       "       [0.61934125],\n",
       "       [0.61172515],\n",
       "       [0.60422546],\n",
       "       [0.59658253],\n",
       "       [0.589523  ],\n",
       "       [0.5844875 ],\n",
       "       [0.5825899 ],\n",
       "       [0.5851539 ],\n",
       "       [0.59270185],\n",
       "       [0.60453147],\n",
       "       [0.6186949 ],\n",
       "       [0.6349108 ],\n",
       "       [0.6523964 ],\n",
       "       [0.67051727],\n",
       "       [0.688817  ],\n",
       "       [0.70614326],\n",
       "       [0.721403  ],\n",
       "       [0.73371375],\n",
       "       [0.7431624 ],\n",
       "       [0.7493285 ],\n",
       "       [0.7514459 ],\n",
       "       [0.7494098 ],\n",
       "       [0.74317044],\n",
       "       [0.73265463],\n",
       "       [0.7181746 ],\n",
       "       [0.7008833 ],\n",
       "       [0.6816324 ],\n",
       "       [0.6615793 ],\n",
       "       [0.64201784],\n",
       "       [0.6235955 ],\n",
       "       [0.60603076],\n",
       "       [0.58873856],\n",
       "       [0.57167685],\n",
       "       [0.5545316 ],\n",
       "       [0.53711385],\n",
       "       [0.5202245 ],\n",
       "       [0.5041488 ],\n",
       "       [0.4895249 ],\n",
       "       [0.47690812],\n",
       "       [0.4669336 ],\n",
       "       [0.45916238],\n",
       "       [0.45289254],\n",
       "       [0.44673997],\n",
       "       [0.44006735],\n",
       "       [0.43221322],\n",
       "       [0.42270222],\n",
       "       [0.41245538],\n",
       "       [0.40230024],\n",
       "       [0.39339796],\n",
       "       [0.38580346],\n",
       "       [0.37940347],\n",
       "       [0.37383863],\n",
       "       [0.3689156 ],\n",
       "       [0.36414915],\n",
       "       [0.3596864 ],\n",
       "       [0.35620227],\n",
       "       [0.3545463 ],\n",
       "       [0.35516214],\n",
       "       [0.3578632 ],\n",
       "       [0.36276162],\n",
       "       [0.36928543],\n",
       "       [0.37670735],\n",
       "       [0.38440883],\n",
       "       [0.3917531 ],\n",
       "       [0.39797792],\n",
       "       [0.40212244],\n",
       "       [0.40312627],\n",
       "       [0.4003752 ],\n",
       "       [0.39454144],\n",
       "       [0.38630825],\n",
       "       [0.37658286],\n",
       "       [0.36650282],\n",
       "       [0.3569154 ],\n",
       "       [0.34830824],\n",
       "       [0.34132785],\n",
       "       [0.3362556 ],\n",
       "       [0.33263293],\n",
       "       [0.32969856],\n",
       "       [0.3267114 ],\n",
       "       [0.3230394 ],\n",
       "       [0.31860057],\n",
       "       [0.3136446 ],\n",
       "       [0.30876562],\n",
       "       [0.30446443],\n",
       "       [0.30079252],\n",
       "       [0.29763862],\n",
       "       [0.29491115],\n",
       "       [0.29261893],\n",
       "       [0.29091743],\n",
       "       [0.2900454 ],\n",
       "       [0.29051447],\n",
       "       [0.29282546],\n",
       "       [0.29743013],\n",
       "       [0.30403754],\n",
       "       [0.3118126 ],\n",
       "       [0.31964746],\n",
       "       [0.3272763 ],\n",
       "       [0.3347381 ],\n",
       "       [0.34214196],\n",
       "       [0.34961885],\n",
       "       [0.35720673],\n",
       "       [0.36497894],\n",
       "       [0.3730259 ],\n",
       "       [0.3811631 ],\n",
       "       [0.38849038],\n",
       "       [0.39396855],\n",
       "       [0.39751005],\n",
       "       [0.39932883],\n",
       "       [0.40014076],\n",
       "       [0.40074655],\n",
       "       [0.4016287 ],\n",
       "       [0.40270925],\n",
       "       [0.40400246],\n",
       "       [0.40504476],\n",
       "       [0.40507528],\n",
       "       [0.40371656],\n",
       "       [0.40097702],\n",
       "       [0.3974332 ],\n",
       "       [0.3928417 ],\n",
       "       [0.38679326],\n",
       "       [0.3791614 ],\n",
       "       [0.37010318],\n",
       "       [0.35962433],\n",
       "       [0.34795746],\n",
       "       [0.33527628],\n",
       "       [0.32210353],\n",
       "       [0.30907434],\n",
       "       [0.29681414],\n",
       "       [0.28580484],\n",
       "       [0.27604005],\n",
       "       [0.26721707],\n",
       "       [0.25909585],\n",
       "       [0.2515713 ],\n",
       "       [0.24455673],\n",
       "       [0.23798324],\n",
       "       [0.23183003],\n",
       "       [0.22600535],\n",
       "       [0.22042379],\n",
       "       [0.21506846],\n",
       "       [0.21001166],\n",
       "       [0.20526645],\n",
       "       [0.20083976],\n",
       "       [0.19673383],\n",
       "       [0.19297625],\n",
       "       [0.18961462],\n",
       "       [0.18672018],\n",
       "       [0.18432602],\n",
       "       [0.18235406],\n",
       "       [0.1806688 ],\n",
       "       [0.17914447],\n",
       "       [0.1776948 ],\n",
       "       [0.17629845],\n",
       "       [0.17490724],\n",
       "       [0.17352484],\n",
       "       [0.17217952],\n",
       "       [0.17091094],\n",
       "       [0.16975367],\n",
       "       [0.16875052],\n",
       "       [0.16793501],\n",
       "       [0.1673707 ],\n",
       "       [0.16708237],\n",
       "       [0.16707699],\n",
       "       [0.16739878],\n",
       "       [0.16807172],\n",
       "       [0.16910699],\n",
       "       [0.17043993],\n",
       "       [0.17198673],\n",
       "       [0.17379777],\n",
       "       [0.17602968],\n",
       "       [0.17904294],\n",
       "       [0.18273942],\n",
       "       [0.18785161],\n",
       "       [0.19537938],\n",
       "       [0.20544304],\n",
       "       [0.21769297],\n",
       "       [0.23092791],\n",
       "       [0.24405548],\n",
       "       [0.2561725 ],\n",
       "       [0.2666721 ],\n",
       "       [0.27550468],\n",
       "       [0.2830408 ],\n",
       "       [0.2895614 ],\n",
       "       [0.2950989 ],\n",
       "       [0.29955733],\n",
       "       [0.303394  ],\n",
       "       [0.30718362],\n",
       "       [0.3111906 ],\n",
       "       [0.31533375],\n",
       "       [0.31912613],\n",
       "       [0.3222087 ],\n",
       "       [0.3248676 ],\n",
       "       [0.32738227],\n",
       "       [0.33018306],\n",
       "       [0.33376703],\n",
       "       [0.33816937],\n",
       "       [0.34282315],\n",
       "       [0.34696227],\n",
       "       [0.34989995]], dtype=float32)"
      ]
     },
     "execution_count": 35,
     "metadata": {},
     "output_type": "execute_result"
    }
   ],
   "source": [
    "y_predict"
   ]
  },
  {
   "cell_type": "code",
   "execution_count": 36,
   "id": "dd656433-91a4-4cf6-84e3-29d83715071a",
   "metadata": {},
   "outputs": [
    {
     "data": {
      "text/plain": [
       "array([0.04017839])"
      ]
     },
     "execution_count": 36,
     "metadata": {},
     "output_type": "execute_result"
    }
   ],
   "source": [
    "scaler.scale_"
   ]
  },
  {
   "cell_type": "code",
   "execution_count": 37,
   "id": "d95354e7-3b3c-4c2e-9f9b-f150f1ead28a",
   "metadata": {},
   "outputs": [],
   "source": [
    "scale=1/scaler.scale_"
   ]
  },
  {
   "cell_type": "code",
   "execution_count": 38,
   "id": "1b092a9d-e97f-4d5c-bb43-052416084280",
   "metadata": {},
   "outputs": [
    {
     "data": {
      "text/plain": [
       "array([24.88899899])"
      ]
     },
     "execution_count": 38,
     "metadata": {},
     "output_type": "execute_result"
    }
   ],
   "source": [
    "scale"
   ]
  },
  {
   "cell_type": "code",
   "execution_count": 39,
   "id": "2422f4aa-10db-4d18-8f20-ff79c0856907",
   "metadata": {},
   "outputs": [],
   "source": [
    "y_predict=y_predict*scale         #predicted values "
   ]
  },
  {
   "cell_type": "code",
   "execution_count": 40,
   "id": "b420c004-66bb-4b67-9668-fce4c2eb7f4e",
   "metadata": {},
   "outputs": [],
   "source": [
    "y=y*scale                         #actual values"
   ]
  },
  {
   "cell_type": "code",
   "execution_count": 41,
   "id": "ae052008-889e-4c20-97fc-24129e9a8687",
   "metadata": {},
   "outputs": [
    {
     "data": {
      "image/png": "[encoded data removed]",
      "text/plain": [
       "<Figure size 1500x800 with 1 Axes>"
      ]
     },
     "metadata": {},
     "output_type": "display_data"
    }
   ],
   "source": [
    "plt.figure(figsize=(15,8))\n",
    "plt.plot(y_predict, 'r', label='Predicted Price')\n",
    "plt.plot(y,'g', label='Original Price')\n",
    "plt.xlabel('Time')\n",
    "plt.ylabel('Price')\n",
    "plt.legend() \n",
    "plt.show()"
   ]
  },
  {
   "cell_type": "markdown",
   "id": "dfb0c52f-95df-4f66-b9a9-2d9e453de707",
   "metadata": {},
   "source": [
    "Kinda good predicted price!"
   ]
  },
  {
   "cell_type": "code",
   "execution_count": 42,
   "id": "5a271738-bf6a-4434-bae4-820a0a27ad72",
   "metadata": {},
   "outputs": [],
   "source": [
    "model.save('Stock Predictions Model.keras')"
   ]
  },
  {
   "cell_type": "code",
   "execution_count": null,
   "id": "64afd6a7-f335-46bf-b44b-97555e9431ab",
   "metadata": {},
   "outputs": [],
   "source": []
  },
  {
   "cell_type": "code",
   "execution_count": null,
   "id": "a92c752f-51a7-49a3-bdfe-18fe0da25255",
   "metadata": {},
   "outputs": [],
   "source": []
  }
 ],
 "metadata": {
  "kernelspec": {
   "display_name": "Python 3 (ipykernel)",
   "language": "python",
   "name": "python3"
  },
  "language_info": {
   "codemirror_mode": {
    "name": "ipython",
    "version": 3
   },
   "file_extension": ".py",
   "mimetype": "text/x-python",
   "name": "python",
   "nbconvert_exporter": "python",
   "pygments_lexer": "ipython3",
   "version": "3.11.7"
  }
 },
 "nbformat": 4,
 "nbformat_minor": 5
}
